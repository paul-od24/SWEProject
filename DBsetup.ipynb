{
 "cells": [
  {
   "cell_type": "code",
   "execution_count": null,
   "metadata": {},
   "outputs": [],
   "source": [
    "import sqlalchemy as sqla\n",
    "from sqlalchemy import create_engine\n",
    "import traceback\n",
    "import glob\n",
    "import os\n",
    "from pprint import pprint\n",
    "import simplejson as json\n",
    "import requests\n",
    "import time\n",
    "from IPython.display import display\n",
    "import dblogin"
   ]
  },
  {
   "cell_type": "code",
   "execution_count": null,
   "metadata": {},
   "outputs": [],
   "source": [
    "engine = create_engine(\"myswl+mysqldb://{}:{}@{}:{}/{}\".format(dblogin.USER, dblogin.PASSWORD, dblogin.URI, dblogin.PORT, dblogin.DB), echo=True)"
   ]
  },
  {
   "cell_type": "code",
   "execution_count": null,
   "metadata": {},
   "outputs": [],
   "source": [
    "sql = \"\"\"\n",
    "CREATE DATABASE IF NOT EXISTS dbikes;\n",
    "\"\"\"\n",
    "engine.execute(sql)"
   ]
  },
  {
   "cell_type": "code",
   "execution_count": null,
   "metadata": {},
   "outputs": [],
   "source": [
    "for res in engine.execute(\"SHOW VARIABLES;\"):\n",
    "    print(res)"
   ]
  },
  {
   "cell_type": "code",
   "execution_count": null,
   "metadata": {},
   "outputs": [],
   "source": [
    "sql = \"\"\"\n",
    "CREATE TABLES IF NOT EXISTS station (\n",
    "address VARCHAR(256),\n",
    "banking INTEGER,\n",
    "bike_stands INTEGER,\n",
    "bonus INTEGER,\n",
    "contract_name VARCHAR(256),\n",
    "name VARCHAR(256),\n",
    "number INTEGER,\n",
    "position_lat REAL,\n",
    "position_lng REAL,\n",
    "status VARCHAR(256)\n",
    ")\n",
    "\"\"\"\n",
    "try:\n",
    "    res = engine.execute(\"DROP TABLE IF EXISTS station\")\n",
    "    res = engine.execute(sql)\n",
    "    print(res.fetchall())\n",
    "except: Exception as e:\n",
    "    print(e)"
   ]
  },
  {
   "cell_type": "code",
   "execution_count": null,
   "metadata": {},
   "outputs": [],
   "source": [
    "sql = \"\"\"\n",
    "CREATE TABLE IF NOT EXISTS availability(\n",
    "number INTEGER,\n",
    "available_bikes INTEGER,\n",
    "available_bike_stands INTEGER,\n",
    "last_update INTEGER\n",
    ")\n",
    "\"\"\"\n",
    "try:\n",
    "    res = engine.execute(sql)\n",
    "    print(res.fetchall())\n",
    "except: Exception as e:\n",
    "    print(e) #traceback.format_exc())"
   ]
  },
  {
   "cell_type": "code",
   "execution_count": null,
   "metadata": {},
   "outputs": [],
   "source": [
    "#!/usr/bon/env python\n",
    "import requests \n",
    "import traceback\n",
    "import datetime \n",
    "import time\n",
    "APIKEY = \"90823420398ff4\"\n",
    "NAME = \"Dublin\"\n",
    "STATIONS = \"https://api.jcdecaux.com/vls/vl/stations\"\n",
    "\n",
    "def write_to_file(text):\n",
    "    with open(\"data/bikes_{}\".format(now).replace(\" \", \"_\"), \"w\") as f:\n",
    "        f.write(r.text)\n",
    "\n",
    "def write_to_db(text):\n",
    "    pass\n",
    "\n",
    "\n",
    "def main():\n",
    "    while True:\n",
    "        try:\n",
    "            now = datetime.datetime.now()\n",
    "            r = requests.get(STATIONS, params = {\"apiKey\" : APIKEY, \"contract\": NAME})\n",
    "            print(r, now)\n",
    "            write_to_file(r.text)\n",
    "            write_to_db(r.text)\n",
    "            time.sleep(5*60)\n",
    "        \n",
    "        except:\n",
    "            print(traceback.format_exc())\n",
    "            if engine is None:\n",
    "    return"
   ]
  },
  {
   "cell_type": "code",
   "execution_count": null,
   "metadata": {},
   "outputs": [],
   "source": [
    "def stations_to_db(text):\n",
    "    stations = json.loads(text)\n",
    "    print(type(stations), len(stations))\n",
    "    for station in stations:\n",
    "        print(station)\n",
    "        vals = (station.get('address'), int(station.get('banking')), station.get('bike_stands'), int(station.get('bonus')), station.get('contract_name'), station.get('name'), station.get('number'), station.get('position').get('lat'), station.get('position').get('lng'), station.get('status') )\n",
    "        engine.execute(\"insert into station values(%s,%s,%s,%s,%s,%s,%s,%s, %s,%s)\", vals)\n",
    "        break\n",
    "    return\n",
    "stations_to_db(r.text)"
   ]
  },
  {
   "cell_type": "code",
   "execution_count": null,
   "metadata": {},
   "outputs": [],
   "source": [
    "metadata = sqla.MetaData()\n",
    "station = sqla.Table(\"station\", metadata,\n",
    "    sqla.Column('address', sql.String(256), nullable =False), sqla.Column('banking', sqla.Integer), sqla.Column('bike_stands', sqla.Integer), sqla.Column('bonus', sqla.Integer()), sqla.Column('contract_name', sqla.String(256)), sqla.Column('name', sqla.String(256)), sqla.Column('number', sqla.Integer), sqla.Column('position_lat', sqla.REAL), sqla.Column('position_lng', sqla.REAL), sqla.Column('status', sqla.String(256)))\n",
    "\n",
    "availability = sqla.Table('availability', metadata,\n",
    "    sqla.Column('available_bikes', sqla.Integer),sqla.Column('available_bike_stands', sqla.Integer),sqla.Column('number', sqla.Integer),sqla.Column('last_update', sqla.BigInteger))\n",
    "\n",
    "try:\n",
    "    station.drop(engine)\n",
    "    availability.drop(engine)\n",
    "\n",
    "except:\n",
    "    pass\n",
    "\n",
    "metadata.create_all(engine)"
   ]
  },
  {
   "cell_type": "code",
   "execution_count": null,
   "metadata": {},
   "outputs": [],
   "source": [
    "#Use this code to load the tables if you have already created them\n",
    "#metadata = sqla.MetaData(bind=engine)\n",
    "#print(metadata)\n",
    "#station = sqla.Table('station', metadata, autoload =True)\n",
    "#print(station)"
   ]
  },
  {
   "cell_type": "code",
   "execution_count": null,
   "metadata": {},
   "outputs": [],
   "source": [
    "#need to make sure the right keys are in the rows being inserted into the db\n",
    "def stations_fix_keys(station):\n",
    "    station['position_lat'] = station['position']['lat']\n",
    "    station['position_lng'] = station['position']['lng']\n",
    "    return station\n",
    "\n",
    "stations =json.loads(open('stations.json', 'r').read())\n",
    "\n",
    "engine.execute(station.insert(), *map(stations_fix_keys, stations))"
   ]
  },
  {
   "cell_type": "code",
   "execution_count": null,
   "metadata": {},
   "outputs": [],
   "source": [
    "import pandas as pd\n",
    "df = pd.read_sql_table(\"station\", engine)"
   ]
  },
  {
   "cell_type": "code",
   "execution_count": null,
   "metadata": {},
   "outputs": [],
   "source": [
    "display(df.head())"
   ]
  },
  {
   "cell_type": "code",
   "execution_count": null,
   "metadata": {},
   "outputs": [],
   "source": [
    "sql = \"select count(*) from station;\"\n",
    "#for row in engine.execute(sql):\n",
    "#     print(row)\n",
    "print(engine.execute(sql).fetchall())"
   ]
  },
  {
   "cell_type": "code",
   "execution_count": null,
   "metadata": {},
   "outputs": [],
   "source": [
    "sql = \"select name from station limit 10;\"\n",
    "for row in engine.execute(sql):\n",
    "    print(row)"
   ]
  },
  {
   "cell_type": "code",
   "execution_count": null,
   "metadata": {},
   "outputs": [
    {
     "ename": "",
     "evalue": "",
     "output_type": "error",
     "traceback": [
      "\u001b[1;31mRunning cells with 'comp30830' requires the ipykernel package.\n",
      "\u001b[1;31mRun the following command to install 'ipykernel' into the Python environment. \n",
      "\u001b[1;31mCommand: 'conda install -n comp30830 ipykernel --update-deps --force-reinstall'"
     ]
    }
   ],
   "source": [
    "#JOIN \n",
    "#(SELECT name, number from station)\n",
    "#on AVAIL.number = station.number\n",
    "\n",
    "sql = \"\"\"\n",
    "select * from\n",
    "(select available_bike_stands, available_bikes, number from availability where available_bikes > 0)\n",
    "\n",
    "\n",
    "\n",
    "\"\"\""
   ]
  },
  {
   "cell_type": "code",
   "execution_count": null,
   "metadata": {},
   "outputs": [],
   "source": []
  }
 ],
 "metadata": {
  "kernelspec": {
   "display_name": "comp30830",
   "language": "python",
   "name": "python3"
  },
  "language_info": {
   "name": "python",
   "version": "3.10.9"
  },
  "orig_nbformat": 4,
  "vscode": {
   "interpreter": {
    "hash": "2fcc58696dd6143c11f557a0497e747f0977062ae5ac8e57a45ea17e4f7273d0"
   }
  }
 },
 "nbformat": 4,
 "nbformat_minor": 2
}
